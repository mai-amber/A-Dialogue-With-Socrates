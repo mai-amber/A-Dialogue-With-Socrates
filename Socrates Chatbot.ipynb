{
 "cells": [
  {
   "cell_type": "markdown",
   "metadata": {},
   "source": [
    "<h1> A Dialogue With Socrates (A Philosophical Chatbot) <h1>"
   ]
  },
  {
   "cell_type": "markdown",
   "metadata": {},
   "source": [
    "<img src='https://i.kym-cdn.com/photos/images/original/001/153/164/9d7.jpg' width=800 align= 'center'>"
   ]
  },
  {
   "cell_type": "markdown",
   "metadata": {},
   "source": [
    "<h2> \"There is only one good, knowledge, and one evil, ignorance.\" -Socrates <h2>"
   ]
  },
  {
   "cell_type": "markdown",
   "metadata": {},
   "source": [
    "This primitive chatbot was inspired by a chatbot detailed in the blog post:\n",
    "'Building a Simple Chatbot from Scratch in Python (using NLTK)'\n",
    "\n",
    "The text input is composed of the following texts:\n",
    "1. The Memorable Thoughts of Socrates, by\n",
    "Xenophon from Project Gutenburg\n",
    "2. Apology, Crito, and Phaedo of Socrates, by Plato from Project Gutenburg\n",
    "3. Socrates Final Speech from World Future Fund\n",
    "4. Socrates from Wikipedia"
   ]
  },
  {
   "cell_type": "code",
   "execution_count": 257,
   "metadata": {},
   "outputs": [
    {
     "name": "stderr",
     "output_type": "stream",
     "text": [
      "[nltk_data] Downloading package punkt to /Users/a1/nltk_data...\n",
      "[nltk_data]   Package punkt is already up-to-date!\n",
      "[nltk_data] Downloading package wordnet to /Users/a1/nltk_data...\n",
      "[nltk_data]   Package wordnet is already up-to-date!\n"
     ]
    },
    {
     "data": {
      "text/plain": [
       "True"
      ]
     },
     "execution_count": 257,
     "metadata": {},
     "output_type": "execute_result"
    }
   ],
   "source": [
    "import nltk\n",
    "import numpy as np\n",
    "import random\n",
    "import string \n",
    "import re\n",
    "nltk.download('punkt')\n",
    "nltk.download('wordnet')"
   ]
  },
  {
   "cell_type": "code",
   "execution_count": 287,
   "metadata": {},
   "outputs": [],
   "source": [
    "f=open('Socrates.txt','r',errors = 'ignore')\n",
    "raw=f.read()\n",
    "raw=raw.lower()\n",
    "raw=raw.replace('\\\\','')\n",
    "raw=raw.replace('\\n','')\n",
    "raw=raw.replace('preface','')\n",
    "raw=raw.replace('vi','')\n",
    "raw=raw.replace('iv','')\n",
    "raw = re.sub(r'\\d+', '', raw)\n",
    "sent_tokens = nltk.sent_tokenize(raw)\n",
    "word_tokens = nltk.word_tokenize(raw)"
   ]
  },
  {
   "cell_type": "code",
   "execution_count": 310,
   "metadata": {},
   "outputs": [
    {
     "data": {
      "text/plain": [
       "['the four dialogues included in this volume have been selected as specially biographical.',\n",
       " 'in them plato has gen us a consummate picture of the real, and also of what we may call the ideal socrates.']"
      ]
     },
     "execution_count": 310,
     "metadata": {},
     "output_type": "execute_result"
    }
   ],
   "source": [
    "sent_tokens[:2]"
   ]
  },
  {
   "cell_type": "code",
   "execution_count": 313,
   "metadata": {},
   "outputs": [
    {
     "data": {
      "text/plain": [
       "['the',\n",
       " 'four',\n",
       " 'dialogues',\n",
       " 'included',\n",
       " 'in',\n",
       " 'this',\n",
       " 'volume',\n",
       " 'have',\n",
       " 'been',\n",
       " 'selected']"
      ]
     },
     "execution_count": 313,
     "metadata": {},
     "output_type": "execute_result"
    }
   ],
   "source": [
    "word_tokens[:10]"
   ]
  },
  {
   "cell_type": "code",
   "execution_count": 290,
   "metadata": {},
   "outputs": [],
   "source": [
    "lemmer = nltk.stem.WordNetLemmatizer()\n",
    "def LemTokens(tokens):\n",
    "    return [lemmer.lemmatize(token) for token in tokens]\n",
    "remove_punct_dict = dict((ord(punct), None) for punct in string.punctuation)\n",
    "def LemNormalize(text):\n",
    "    return LemTokens(nltk.word_tokenize(text.lower().translate(remove_punct_dict)))"
   ]
  },
  {
   "cell_type": "code",
   "execution_count": 291,
   "metadata": {},
   "outputs": [],
   "source": [
    "GREETING_INPUTS = (\"hello\", \"hi\", \"greetings\")\n",
    "GREETING_RESPONSES = [\"hi\", \"hey\", \"*nods*\", \"hi there\", \"hello\", \"I am glad! You are talking to me\"]\n",
    "def greeting(sentence):\n",
    " \n",
    "    for word in sentence.split():\n",
    "        if word.lower() in GREETING_INPUTS:\n",
    "            return random.choice(GREETING_RESPONSES)"
   ]
  },
  {
   "cell_type": "code",
   "execution_count": 292,
   "metadata": {},
   "outputs": [],
   "source": [
    "from sklearn.feature_extraction.text import TfidfVectorizer"
   ]
  },
  {
   "cell_type": "code",
   "execution_count": 293,
   "metadata": {},
   "outputs": [],
   "source": [
    "from sklearn.metrics.pairwise import cosine_similarity"
   ]
  },
  {
   "cell_type": "code",
   "execution_count": 294,
   "metadata": {},
   "outputs": [],
   "source": [
    "def response(user_response):\n",
    "    robo_response=''\n",
    "    sent_tokens.append(user_response)\n",
    "    TfidfVec = TfidfVectorizer(tokenizer=LemNormalize)\n",
    "    tfidf = TfidfVec.fit_transform(sent_tokens)\n",
    "    vals = cosine_similarity(tfidf[-1], tfidf)\n",
    "    idx=vals.argsort()[0][-2]\n",
    "    flat = vals.flatten()\n",
    "    flat.sort()\n",
    "    req_tfidf = flat[-2]\n",
    "    if(req_tfidf==0):\n",
    "        robo_response=robo_response+\"I am sorry! I don't understand you\"\n",
    "        return robo_response\n",
    "    else:\n",
    "        robo_response = robo_response+sent_tokens[idx]\n",
    "        return robo_response"
   ]
  },
  {
   "cell_type": "code",
   "execution_count": 297,
   "metadata": {},
   "outputs": [
    {
     "name": "stdout",
     "output_type": "stream",
     "text": [
      "My name is Socrates. If you want to end the discussion, type farewell\n",
      "Hello Socrates\n",
      "Socrates: hello\n",
      "What is a virtuous life?\n",
      "Socrates: \"\"what, then, is produced from life?\n",
      "Knowledge maybe?\n",
      "Socrates: you maybe certain that there are in this city many men who would thinkthemselves very happy to be honoured with your friendship.\n",
      "What is happiness?\n",
      "Socrates: or what is the nature of that pleasure or happiness which never wearies by monotony ?\n",
      "What is reason?\n",
      "Socrates: what was the reason of this ?\n",
      "What is the socratic method?\n",
      "Socrates: the socratic method is a negate method of hypothesis elimination, in that better hypotheses are found by steadily identifying and eliminating those that lead to contradictions.\n",
      "What is ethics?\n",
      "Socrates: \"what!\"\n",
      "ethics?\n",
      "Socrates: the search for a definition of piety leads to an exposure of the unsoundness of the basis of ethics proded by polytheism, and it is discovered that that   alone can be regarded as a pious act with which all the gods are pleased.\n",
      "Thank you for this discussion\n",
      "Socrates: then now let us return to the preous discussion.\n",
      "I must say goodbye\n",
      "Socrates: therefore i must say, o athenians!\n",
      "Before I go, what was the ship of Theseus?\n",
      "Socrates: what is this ship ?\n",
      "Theseus?\n",
      "Socrates: it is the ship in which, according to athenian tradition, theseus went to crete when he took with him the fourteen youths, and was the saour of them and of himself.\n",
      "Thank you, very interesting\n",
      "Socrates: i will tell you a tale of the courts, not very interesting perhaps, but nevertheless true.\n",
      "What is truth?\n",
      "Socrates: and is this said with truth?\n",
      "Ok, farewell\n",
      "Socrates: \"tell this, then, to evenus, cebes, and bid him farewell, and if he is wise, to follow me as soon as he can.\n",
      "farewell\n",
      "Socrates: Goodbye! Don't forget, an unexamined life is not worth living.\n"
     ]
    }
   ],
   "source": [
    "flag=True\n",
    "print(\"My name is Socrates. If you want to end the discussion, type farewell\")\n",
    "while(flag==True):\n",
    "    user_response = input()\n",
    "    user_response=user_response.lower()\n",
    "    if(user_response!='farewell'):\n",
    "        if(user_response=='thanks' or user_response=='thank you' ):\n",
    "            flag=False\n",
    "            print(\"Socrates: You are welcome..\")\n",
    "        else:\n",
    "            if(greeting(user_response)!=None):\n",
    "                print(\"Socrates: \"+greeting(user_response))\n",
    "            else:\n",
    "                print(\"Socrates: \",end=\"\")\n",
    "                print(response(user_response))\n",
    "                sent_tokens.remove(user_response)\n",
    "    else:\n",
    "        flag=False\n",
    "        print(\"Socrates: Goodbye! Don't forget, an unexamined life is not worth living.\")"
   ]
  },
  {
   "cell_type": "raw",
   "metadata": {},
   "source": []
  },
  {
   "cell_type": "code",
   "execution_count": null,
   "metadata": {},
   "outputs": [],
   "source": []
  }
 ],
 "metadata": {
  "kernelspec": {
   "display_name": "Python 3",
   "language": "python",
   "name": "python3"
  },
  "language_info": {
   "codemirror_mode": {
    "name": "ipython",
    "version": 3
   },
   "file_extension": ".py",
   "mimetype": "text/x-python",
   "name": "python",
   "nbconvert_exporter": "python",
   "pygments_lexer": "ipython3",
   "version": "3.8.3"
  }
 },
 "nbformat": 4,
 "nbformat_minor": 4
}
